{
 "cells": [
  {
   "attachments": {},
   "cell_type": "markdown",
   "metadata": {},
   "source": [
    "# 0. Import Library"
   ]
  },
  {
   "cell_type": "code",
   "execution_count": 1,
   "metadata": {},
   "outputs": [],
   "source": [
    "import pandas as pd\n",
    "import numpy as np\n",
    "import matplotlib.pyplot as plt\n",
    "import seaborn as sns"
   ]
  },
  {
   "cell_type": "code",
   "execution_count": 2,
   "metadata": {},
   "outputs": [],
   "source": [
    "df = pd.read_csv(\"../data/train.csv\")\n",
    "df\n",
    "df = df.drop(columns = [\"Id\"])"
   ]
  },
  {
   "cell_type": "code",
   "execution_count": 3,
   "metadata": {},
   "outputs": [
    {
     "data": {
      "text/plain": [
       "(1460, 80)"
      ]
     },
     "execution_count": 3,
     "metadata": {},
     "output_type": "execute_result"
    }
   ],
   "source": [
    "df.shape"
   ]
  },
  {
   "attachments": {},
   "cell_type": "markdown",
   "metadata": {},
   "source": [
    "# 1.Preproccessing\n",
    "## 1.1. Missing value"
   ]
  },
  {
   "cell_type": "code",
   "execution_count": 4,
   "metadata": {},
   "outputs": [
    {
     "data": {
      "text/plain": [
       "LotFrontage      259\n",
       "Alley           1369\n",
       "MasVnrType         8\n",
       "MasVnrArea         8\n",
       "BsmtQual          37\n",
       "BsmtCond          37\n",
       "BsmtExposure      38\n",
       "BsmtFinType1      37\n",
       "BsmtFinType2      38\n",
       "Electrical         1\n",
       "FireplaceQu      690\n",
       "GarageType        81\n",
       "GarageYrBlt       81\n",
       "GarageFinish      81\n",
       "GarageQual        81\n",
       "GarageCond        81\n",
       "PoolQC          1453\n",
       "Fence           1179\n",
       "MiscFeature     1406\n",
       "dtype: int64"
      ]
     },
     "execution_count": 4,
     "metadata": {},
     "output_type": "execute_result"
    }
   ],
   "source": [
    "temp = df.isna().sum(axis = 0) \n",
    "temp[temp > 0]"
   ]
  },
  {
   "cell_type": "code",
   "execution_count": 5,
   "metadata": {},
   "outputs": [
    {
     "name": "stdout",
     "output_type": "stream",
     "text": [
      "<class 'pandas.core.frame.DataFrame'>\n",
      "RangeIndex: 1460 entries, 0 to 1459\n",
      "Data columns (total 19 columns):\n",
      " #   Column        Non-Null Count  Dtype  \n",
      "---  ------        --------------  -----  \n",
      " 0   LotFrontage   1201 non-null   float64\n",
      " 1   Alley         91 non-null     object \n",
      " 2   MasVnrType    1452 non-null   object \n",
      " 3   MasVnrArea    1452 non-null   float64\n",
      " 4   BsmtQual      1423 non-null   object \n",
      " 5   BsmtCond      1423 non-null   object \n",
      " 6   BsmtExposure  1422 non-null   object \n",
      " 7   BsmtFinType1  1423 non-null   object \n",
      " 8   BsmtFinType2  1422 non-null   object \n",
      " 9   Electrical    1459 non-null   object \n",
      " 10  FireplaceQu   770 non-null    object \n",
      " 11  GarageType    1379 non-null   object \n",
      " 12  GarageYrBlt   1379 non-null   float64\n",
      " 13  GarageFinish  1379 non-null   object \n",
      " 14  GarageQual    1379 non-null   object \n",
      " 15  GarageCond    1379 non-null   object \n",
      " 16  PoolQC        7 non-null      object \n",
      " 17  Fence         281 non-null    object \n",
      " 18  MiscFeature   54 non-null     object \n",
      "dtypes: float64(3), object(16)\n",
      "memory usage: 216.8+ KB\n"
     ]
    }
   ],
   "source": [
    "df[temp[temp > 0].index].info()"
   ]
  },
  {
   "attachments": {},
   "cell_type": "markdown",
   "metadata": {},
   "source": [
    "Có 19 cột có missing value, chia thành 3 nhóm:\n",
    "- Các cột numerical, với các cột này, nhóm chỉ điền giá trị mean vào missing value\n",
    "- Các cột categorical có định nghĩa giá trị NA, với các cột này nhóm sẽ điền giá trị được định nghĩa trong mô tả dữ liệu vào missing value\n",
    "- Các cột categorical không có định nghĩa giá trị NA, đối với các cột này, nhóm sẽ điền giá trị mode vào các missing value"
   ]
  },
  {
   "cell_type": "code",
   "execution_count": 6,
   "metadata": {},
   "outputs": [],
   "source": [
    "#numerical features\n",
    "df['LotFrontage'] = df['LotFrontage'].fillna(df['LotFrontage'].mean())\n",
    "df['MasVnrArea'] = df['MasVnrArea'].fillna(df['MasVnrArea'].mean())\n",
    "df['GarageYrBlt'] = df['GarageYrBlt'].fillna(df['GarageYrBlt'].mean())\n",
    "\n",
    "#categorical features defined NA\n",
    "df['Alley'] = df['Alley'].fillna('No alley access')\n",
    "df['MasVnrType'] = df['MasVnrType'].fillna('None')\n",
    "df['BsmtQual'] = df['BsmtQual'].fillna('No basement')\n",
    "df['BsmtCond'] = df['BsmtCond'].fillna('No basement')\n",
    "df['BsmtExposure'] = df['BsmtExposure'].fillna('No basement')\n",
    "df['BsmtFinType1'] = df['BsmtFinType1'].fillna('No basement')\n",
    "df['BsmtFinType2'] = df['BsmtFinType2'].fillna('No basement')\n",
    "df['FireplaceQu'] = df['FireplaceQu'].fillna('No fireplace')\n",
    "df['GarageType'] = df['GarageType'].fillna('No garage')\n",
    "df['GarageFinish'] = df['GarageFinish'].fillna('No garage')\n",
    "df['GarageQual'] = df['GarageQual'].fillna('No garage')\n",
    "df['GarageCond'] = df['GarageCond'].fillna('No garage')\n",
    "df['PoolQC'] = df['PoolQC'].fillna('No pool')\n",
    "df['Fence'] = df['Fence'].fillna('No fence')\n",
    "df['MiscFeature'] = df['MiscFeature'].fillna('None')\n",
    "\n",
    "#categorical features not defined NA\n",
    "df['Electrical'] = df['Electrical'].fillna(df['Electrical'].mode()[0])"
   ]
  },
  {
   "attachments": {},
   "cell_type": "markdown",
   "metadata": {},
   "source": [
    "## 1.2. Duplicated values"
   ]
  },
  {
   "cell_type": "code",
   "execution_count": 7,
   "metadata": {},
   "outputs": [
    {
     "data": {
      "text/plain": [
       "0"
      ]
     },
     "execution_count": 7,
     "metadata": {},
     "output_type": "execute_result"
    }
   ],
   "source": [
    "df.duplicated().sum()"
   ]
  },
  {
   "attachments": {},
   "cell_type": "markdown",
   "metadata": {},
   "source": [
    "Dữ liệu không bị trùng"
   ]
  },
  {
   "attachments": {},
   "cell_type": "markdown",
   "metadata": {},
   "source": [
    "## 1.3. Outliers"
   ]
  },
  {
   "attachments": {},
   "cell_type": "markdown",
   "metadata": {},
   "source": [
    "Tại đây nhóm khảo sát dữ liệu theo 2 nhóm là categorical và numerical. Các cột có kiểu dữ liệu object được xếp vào categorical, ngược lại int và float được xếp vào numerical. Tuy nhiên cột MSSubClass có kiểu dữ liệu int nhưng các giá trị số nguyên này không có ý nghĩa so sánh lớn nhỏ mà chỉ có ý nghĩa phân loại, do đó nhóm sẽ gom cột này về categorical"
   ]
  },
  {
   "attachments": {},
   "cell_type": "markdown",
   "metadata": {},
   "source": [
    "### 1.3.1 Categorical outliers"
   ]
  },
  {
   "cell_type": "code",
   "execution_count": 8,
   "metadata": {},
   "outputs": [],
   "source": [
    "dftypes = df.dtypes\n",
    "categorical_col = list(dftypes[dftypes == \"object\"].keys())\n",
    "categorical_col.append(\"MSSubClass\")\n",
    "categorical_col.append(\"KitchenAbvGr\")\n",
    "\n",
    "numerical_col = list(df.columns[~df.columns.isin(categorical_col)])[:-1]"
   ]
  },
  {
   "cell_type": "code",
   "execution_count": 9,
   "metadata": {},
   "outputs": [],
   "source": [
    "# fig, axes = plt.subplots(10, 4, figsize = (20, 50))\n",
    "\n",
    "# for col, ax in zip(categorical_col, axes.flatten()):\n",
    "#     data = df[col].value_counts()\n",
    "#     ax.barh(data.index, data.values)\n",
    "#     ax.set_title(col)"
   ]
  },
  {
   "attachments": {},
   "cell_type": "markdown",
   "metadata": {},
   "source": [
    "Phân bố dữ liệu trong các cột categorical được chia thành 2 nhóm:\n",
    "\n",
    "- Các cột dữ liệu phân bố đều, đối với các cột này, nhóm sẽ loại bỏ các dòng thuộc về không quá 5% dữ liệu\n",
    " \n",
    "- Các cột dữ liệu chỉ tập trung vào một class, các class khác rất ít, sau khi thống nhất, nhóm quyết định vẫn giữ lại các cột này vì dù dữ liệu bị lệch cũng có thể đóng góp ít nhiều trong quá trình xây dựng mô hình"
   ]
  },
  {
   "cell_type": "code",
   "execution_count": 10,
   "metadata": {},
   "outputs": [
    {
     "data": {
      "text/plain": [
       "(208, 80)"
      ]
     },
     "execution_count": 10,
     "metadata": {},
     "output_type": "execute_result"
    }
   ],
   "source": [
    "df1 = df\n",
    "\n",
    "for col in categorical_col:\n",
    "    temp = df1[col].value_counts()\n",
    "    df1 = df1[~df1[col].isin(temp[temp <= 0.05 * df1.shape[0]].index)]\n",
    "\n",
    "# fig, axes = plt.subplots(10, 4, figsize = (20, 50))\n",
    "\n",
    "# for col, ax in zip(categorical_col, axes.flatten()):\n",
    "#     data = df1[col].value_counts()\n",
    "#     ax.barh(data.index, data.values)\n",
    "#     ax.set_title(col)\n",
    "\n",
    "df1.shape"
   ]
  },
  {
   "attachments": {},
   "cell_type": "markdown",
   "metadata": {},
   "source": [
    "Khi thực hiện loại bỏ các giá trị thuộc về ít hơn 5% trong từng cột, nhóm nhận ra dữ liệu chỉ còn hơn 200 dòng. Do đó nhóm cũng sẽ giữ nguyên các cột này"
   ]
  },
  {
   "attachments": {},
   "cell_type": "markdown",
   "metadata": {},
   "source": [
    "### 1.3.2. Numerical outliers"
   ]
  },
  {
   "cell_type": "code",
   "execution_count": 11,
   "metadata": {},
   "outputs": [],
   "source": [
    "# df[numerical_col].hist(bins = 40, figsize = (22.5, 15));"
   ]
  },
  {
   "cell_type": "code",
   "execution_count": 12,
   "metadata": {},
   "outputs": [
    {
     "data": {
      "text/plain": [
       "(0, 80)"
      ]
     },
     "execution_count": 12,
     "metadata": {},
     "output_type": "execute_result"
    }
   ],
   "source": [
    "df1 = df\n",
    "\n",
    "for col in numerical_col:\n",
    "    q1, q3 = df[col].quantile([0.25, 0.75])\n",
    "    iqr = q3 - q1\n",
    "    df1 = df1[(df1[col] > (q1 - 1.5 * iqr)) & (df1[col] < (q3 + 1.5 * iqr))]\n",
    "\n",
    "df1.shape"
   ]
  },
  {
   "attachments": {},
   "cell_type": "markdown",
   "metadata": {},
   "source": [
    "Quan sát phân bố của các cột categorical và tiến hành loại bỏ thử các outliers sử dụng tứ phân vị, nhóm thu được kết quả tất cả điểm dữ liệu đều là outliers của ít nhất một feature nào đó. Do đó nhóm cũng sẽ không can thiệp vào các outliers ở các cột này"
   ]
  },
  {
   "cell_type": "code",
   "execution_count": 13,
   "metadata": {},
   "outputs": [],
   "source": [
    "df.to_csv(\"../data/train_clean.csv\", index = False)"
   ]
  },
  {
   "attachments": {},
   "cell_type": "markdown",
   "metadata": {},
   "source": [
    "Như vậy trong pha tiền xử lí, nhóm chỉ đơn giản điền các giá trị missing value cho các cột. Nhóm cũng sẽ tiền xử lí dữ liệu test tương tự ở bên dưới"
   ]
  },
  {
   "cell_type": "code",
   "execution_count": 14,
   "metadata": {},
   "outputs": [],
   "source": [
    "df = pd.read_csv(\"../data/test.csv\")"
   ]
  },
  {
   "cell_type": "code",
   "execution_count": 15,
   "metadata": {},
   "outputs": [
    {
     "data": {
      "text/plain": [
       "Index(['MSZoning', 'LotFrontage', 'Alley', 'Utilities', 'Exterior1st',\n",
       "       'Exterior2nd', 'MasVnrType', 'MasVnrArea', 'BsmtQual', 'BsmtCond',\n",
       "       'BsmtExposure', 'BsmtFinType1', 'BsmtFinSF1', 'BsmtFinType2',\n",
       "       'BsmtFinSF2', 'BsmtUnfSF', 'TotalBsmtSF', 'BsmtFullBath',\n",
       "       'BsmtHalfBath', 'KitchenQual', 'Functional', 'FireplaceQu',\n",
       "       'GarageType', 'GarageYrBlt', 'GarageFinish', 'GarageCars', 'GarageArea',\n",
       "       'GarageQual', 'GarageCond', 'PoolQC', 'Fence', 'MiscFeature',\n",
       "       'SaleType'],\n",
       "      dtype='object')"
      ]
     },
     "execution_count": 15,
     "metadata": {},
     "output_type": "execute_result"
    }
   ],
   "source": [
    "temp = df.isnull().sum(axis = 0)\n",
    "temp[temp > 0].index"
   ]
  },
  {
   "cell_type": "code",
   "execution_count": 16,
   "metadata": {},
   "outputs": [],
   "source": [
    "#numerical features\n",
    "df['LotFrontage'] = df['LotFrontage'].fillna(df['LotFrontage'].mean())\n",
    "df['MasVnrArea'] = df['MasVnrArea'].fillna(df['MasVnrArea'].mean())\n",
    "df['GarageYrBlt'] = df['GarageYrBlt'].fillna(df['GarageYrBlt'].mean())\n",
    "df['BsmtFinSF1'] = df['BsmtFinSF1'].fillna(df['BsmtFinSF1'].mean())\n",
    "df['BsmtFinSF2'] = df['BsmtFinSF2'].fillna(df['BsmtFinSF2'].mean())\n",
    "df['BsmtUnfSF'] = df['BsmtUnfSF'].fillna(df['BsmtUnfSF'].mean())\n",
    "df['TotalBsmtSF'] = df['TotalBsmtSF'].fillna(df['TotalBsmtSF'].mean())\n",
    "df['BsmtFullBath'] = df['BsmtFullBath'].fillna(df['BsmtFullBath'].mean())\n",
    "df['BsmtHalfBath'] = df['BsmtHalfBath'].fillna(df['BsmtHalfBath'].mean())\n",
    "df['GarageCars'] = df['GarageCars'].fillna(df['GarageCars'].mean())\n",
    "df['GarageArea'] = df['GarageArea'].fillna(df['GarageArea'].mean())\n",
    "\n",
    "#categorical features defined NA\n",
    "df['Alley'] = df['Alley'].fillna('No alley access')\n",
    "df['MasVnrType'] = df['MasVnrType'].fillna('None')\n",
    "df['BsmtQual'] = df['BsmtQual'].fillna('No basement')\n",
    "df['BsmtCond'] = df['BsmtCond'].fillna('No basement')\n",
    "df['BsmtExposure'] = df['BsmtExposure'].fillna('No basement')\n",
    "df['BsmtFinType1'] = df['BsmtFinType1'].fillna('No basement')\n",
    "df['BsmtFinType2'] = df['BsmtFinType2'].fillna('No basement')\n",
    "df['FireplaceQu'] = df['FireplaceQu'].fillna('No fireplace')\n",
    "df['GarageType'] = df['GarageType'].fillna('No garage')\n",
    "df['GarageFinish'] = df['GarageFinish'].fillna('No garage')\n",
    "df['GarageQual'] = df['GarageQual'].fillna('No garage')\n",
    "df['GarageCond'] = df['GarageCond'].fillna('No garage')\n",
    "df['PoolQC'] = df['PoolQC'].fillna('No pool')\n",
    "df['Fence'] = df['Fence'].fillna('No fence')\n",
    "df['MiscFeature'] = df['MiscFeature'].fillna('None')\n",
    "\n",
    "#categorical features not defined NA\n",
    "df['Electrical'] = df['Electrical'].fillna(df['Electrical'].mode()[0])\n",
    "df['MSZoning'] = df['MSZoning'].fillna(df['MSZoning'].mode()[0])\n",
    "df['Utilities'] = df['Utilities'].fillna(df['Utilities'].mode()[0])\n",
    "df['Exterior1st'] = df['Exterior1st'].fillna(df['Exterior1st'].mode()[0])\n",
    "df['Exterior2nd'] = df['Exterior2nd'].fillna(df['Exterior2nd'].mode()[0])\n",
    "df['KitchenQual'] = df['KitchenQual'].fillna(df['KitchenQual'].mode()[0])\n",
    "df['Functional'] = df['Functional'].fillna(df['Functional'].mode()[0])"
   ]
  },
  {
   "cell_type": "code",
   "execution_count": 17,
   "metadata": {},
   "outputs": [],
   "source": [
    "df.to_csv(\"../data/test_clean.csv\", index = False)"
   ]
  }
 ],
 "metadata": {
  "kernelspec": {
   "display_name": "base",
   "language": "python",
   "name": "python3"
  },
  "language_info": {
   "codemirror_mode": {
    "name": "ipython",
    "version": 3
   },
   "file_extension": ".py",
   "mimetype": "text/x-python",
   "name": "python",
   "nbconvert_exporter": "python",
   "pygments_lexer": "ipython3",
   "version": "3.10.9"
  },
  "orig_nbformat": 4
 },
 "nbformat": 4,
 "nbformat_minor": 2
}
