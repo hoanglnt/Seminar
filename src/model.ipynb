{
 "cells": [
  {
   "attachments": {},
   "cell_type": "markdown",
   "metadata": {},
   "source": [
    "# 0. Import Library"
   ]
  },
  {
   "cell_type": "code",
   "execution_count": 1,
   "metadata": {},
   "outputs": [],
   "source": [
    "import pandas as pd\n",
    "import numpy as np\n",
    "import matplotlib.pyplot as plt\n",
    "import seaborn as sns\n",
    "\n",
    "from sklearn.model_selection import train_test_split\n",
    "from sklearn.preprocessing import StandardScaler\n",
    "from sklearn.tree import DecisionTreeRegressor\n",
    "from sklearn.model_selection import GridSearchCV\n",
    "from sklearn.ensemble import RandomForestRegressor\n",
    "from sklearn.linear_model import LinearRegression\n",
    "from sklearn.ensemble import GradientBoostingRegressor\n",
    "from sklearn.metrics import make_scorer, mean_squared_error"
   ]
  },
  {
   "cell_type": "code",
   "execution_count": 2,
   "metadata": {},
   "outputs": [],
   "source": [
    "df = pd.read_csv('../data/preprocessed.csv')"
   ]
  },
  {
   "attachments": {},
   "cell_type": "markdown",
   "metadata": {},
   "source": [
    "# 3.Data Modeling"
   ]
  },
  {
   "cell_type": "code",
   "execution_count": 3,
   "metadata": {},
   "outputs": [],
   "source": [
    "nominal_col = [\n",
    "    \"MSSubClass\",\"MSZoning\", \"LotConfig\", \"Neighborhood\", \"HouseStyle\", \"RoofStyle\",\n",
    "    \"Exterior1st\", \"Exterior2nd\", \"MasVnrType\", \"Foundation\", \"GarageType\",\n",
    "    \"SaleType\", \"SaleCondition\", \"Street\", \"Condition1\", \"Condition2\", \n",
    "    \"BldgType\", \"RoofMatl\", \"Heating\", \"CentralAir\", \"Electrical\", \n",
    "    \"Functional\"\n",
    "]\n",
    "\n",
    "ordinal_col = [\n",
    "    \"LotShape\", \"ExterQual\", \"ExterCond\", \"BsmtQual\", \"BsmtExposure\",\n",
    "    \"BsmtFinType1\", \"HeatingQC\", \"KitchenQual\", \"FireplaceQu\", \"GarageFinish\",\n",
    "    \"KitchenAbvGr\", \"LandContour\", \"Utilities\", \"LandSlope\", \"BsmtCond\",\n",
    "    \"BsmtFinType2\", \"GarageQual\", \"GarageCond\", \"PavedDrive\"\n",
    "]\n",
    "\n",
    "categorical_col = nominal_col + ordinal_col\n",
    "\n",
    "numerical_col = list(df.columns[(~df.columns.isin(categorical_col))])[:-1]"
   ]
  },
  {
   "cell_type": "code",
   "execution_count": 4,
   "metadata": {},
   "outputs": [],
   "source": [
    "test_df = pd.read_csv('../data/test_clean.csv')\n",
    "\n",
    "test_df[ordinal_col] = test_df[ordinal_col].astype(\"category\").apply(lambda x: x.cat.codes)\n",
    "test_df = pd.get_dummies(test_df, columns=nominal_col, drop_first=True)\n",
    "\n",
    "test_df[numerical_col] = StandardScaler().fit_transform(test_df[numerical_col])"
   ]
  },
  {
   "cell_type": "code",
   "execution_count": 5,
   "metadata": {},
   "outputs": [],
   "source": [
    "df[ordinal_col] = df[ordinal_col].astype(\"category\").apply(lambda x: x.cat.codes)\n",
    "df = pd.get_dummies(df, columns=nominal_col, drop_first=True)"
   ]
  },
  {
   "cell_type": "code",
   "execution_count": 6,
   "metadata": {},
   "outputs": [],
   "source": [
    "features = list(df.columns)\n",
    "\n",
    "features.remove('SalePrice')\n",
    "features.remove(\"Exterior1st_ImStucc\")\n",
    "features.remove(\"Exterior1st_Stone\")\n",
    "features.remove(\"Exterior2nd_Other\")\n",
    "features.remove('Exterior1st_CBlock')\n",
    "features.remove('Exterior2nd_AsphShn')\n",
    "features.remove('Exterior2nd_CBlock')\n",
    "features.remove('Exterior2nd_Stone')\n",
    "features.remove(\"HouseStyle_2.5Fin\")\n",
    "for col in ['Condition2_RRAe', 'Condition2_RRAn', 'Condition2_RRNn', 'RoofMatl_CompShg', 'RoofMatl_Membran', 'RoofMatl_Metal', 'RoofMatl_Roll', 'Heating_GasA', 'Heating_OthW', 'Electrical_Mix']:\n",
    "    if col in features:\n",
    "        features.remove(col)\n",
    "\n",
    "target = 'SalePrice'\n",
    "\n",
    "X_train, X_test, y_train, y_test = train_test_split(df[features], df[target], test_size=0.2, random_state=42)\n",
    "\n",
    "X_train[numerical_col] = StandardScaler().fit_transform(X_train[numerical_col])\n",
    "X_test[numerical_col] = StandardScaler().fit_transform(X_test[numerical_col])"
   ]
  },
  {
   "cell_type": "code",
   "execution_count": 7,
   "metadata": {},
   "outputs": [],
   "source": [
    "def predict(model):\n",
    "    pd.DataFrame({\n",
    "        \"Id\": test_df[\"Id\"],\n",
    "        \"SalePrice\": model.predict(test_df[features])\n",
    "    }).to_csv('../data/submission.csv', index=False)\n",
    "\n",
    "    print(\"Submission file created!\")"
   ]
  },
  {
   "cell_type": "code",
   "execution_count": 8,
   "metadata": {},
   "outputs": [],
   "source": [
    "scorer = make_scorer(mean_squared_error, squared=False)"
   ]
  },
  {
   "cell_type": "code",
   "execution_count": 9,
   "metadata": {},
   "outputs": [
    {
     "data": {
      "text/plain": [
       "Series([], dtype: int64)"
      ]
     },
     "execution_count": 9,
     "metadata": {},
     "output_type": "execute_result"
    }
   ],
   "source": [
    "temp = test_df.isna().sum()\n",
    "temp[temp > 0]"
   ]
  },
  {
   "cell_type": "code",
   "execution_count": 10,
   "metadata": {},
   "outputs": [
    {
     "data": {
      "text/html": [
       "<div>\n",
       "<style scoped>\n",
       "    .dataframe tbody tr th:only-of-type {\n",
       "        vertical-align: middle;\n",
       "    }\n",
       "\n",
       "    .dataframe tbody tr th {\n",
       "        vertical-align: top;\n",
       "    }\n",
       "\n",
       "    .dataframe thead th {\n",
       "        text-align: right;\n",
       "    }\n",
       "</style>\n",
       "<table border=\"1\" class=\"dataframe\">\n",
       "  <thead>\n",
       "    <tr style=\"text-align: right;\">\n",
       "      <th></th>\n",
       "      <th>LotFrontage</th>\n",
       "      <th>LotArea</th>\n",
       "      <th>LotShape</th>\n",
       "      <th>LandContour</th>\n",
       "      <th>Utilities</th>\n",
       "      <th>LandSlope</th>\n",
       "      <th>OverallQual</th>\n",
       "      <th>OverallCond</th>\n",
       "      <th>YearBuilt</th>\n",
       "      <th>YearRemodAdd</th>\n",
       "      <th>...</th>\n",
       "      <th>CentralAir_Y</th>\n",
       "      <th>Electrical_FuseF</th>\n",
       "      <th>Electrical_FuseP</th>\n",
       "      <th>Electrical_SBrkr</th>\n",
       "      <th>Functional_Maj2</th>\n",
       "      <th>Functional_Min1</th>\n",
       "      <th>Functional_Min2</th>\n",
       "      <th>Functional_Mod</th>\n",
       "      <th>Functional_Sev</th>\n",
       "      <th>Functional_Typ</th>\n",
       "    </tr>\n",
       "  </thead>\n",
       "  <tbody>\n",
       "    <tr>\n",
       "      <th>254</th>\n",
       "      <td>0.424462</td>\n",
       "      <td>-0.212896</td>\n",
       "      <td>3</td>\n",
       "      <td>3</td>\n",
       "      <td>0</td>\n",
       "      <td>0</td>\n",
       "      <td>-0.820445</td>\n",
       "      <td>0.372217</td>\n",
       "      <td>-0.568922</td>\n",
       "      <td>-1.296113</td>\n",
       "      <td>...</td>\n",
       "      <td>1</td>\n",
       "      <td>0</td>\n",
       "      <td>0</td>\n",
       "      <td>1</td>\n",
       "      <td>0</td>\n",
       "      <td>0</td>\n",
       "      <td>0</td>\n",
       "      <td>0</td>\n",
       "      <td>0</td>\n",
       "      <td>1</td>\n",
       "    </tr>\n",
       "    <tr>\n",
       "      <th>1066</th>\n",
       "      <td>0.153752</td>\n",
       "      <td>-0.265245</td>\n",
       "      <td>0</td>\n",
       "      <td>3</td>\n",
       "      <td>0</td>\n",
       "      <td>0</td>\n",
       "      <td>-0.088934</td>\n",
       "      <td>1.268609</td>\n",
       "      <td>0.714019</td>\n",
       "      <td>0.300405</td>\n",
       "      <td>...</td>\n",
       "      <td>1</td>\n",
       "      <td>0</td>\n",
       "      <td>0</td>\n",
       "      <td>1</td>\n",
       "      <td>0</td>\n",
       "      <td>0</td>\n",
       "      <td>0</td>\n",
       "      <td>0</td>\n",
       "      <td>0</td>\n",
       "      <td>1</td>\n",
       "    </tr>\n",
       "    <tr>\n",
       "      <th>638</th>\n",
       "      <td>0.351788</td>\n",
       "      <td>-0.177841</td>\n",
       "      <td>3</td>\n",
       "      <td>3</td>\n",
       "      <td>0</td>\n",
       "      <td>0</td>\n",
       "      <td>-0.820445</td>\n",
       "      <td>1.268609</td>\n",
       "      <td>-1.793320</td>\n",
       "      <td>-1.485933</td>\n",
       "      <td>...</td>\n",
       "      <td>1</td>\n",
       "      <td>0</td>\n",
       "      <td>0</td>\n",
       "      <td>0</td>\n",
       "      <td>0</td>\n",
       "      <td>0</td>\n",
       "      <td>0</td>\n",
       "      <td>0</td>\n",
       "      <td>0</td>\n",
       "      <td>1</td>\n",
       "    </tr>\n",
       "    <tr>\n",
       "      <th>799</th>\n",
       "      <td>0.178866</td>\n",
       "      <td>-0.324474</td>\n",
       "      <td>3</td>\n",
       "      <td>3</td>\n",
       "      <td>0</td>\n",
       "      <td>0</td>\n",
       "      <td>-0.820445</td>\n",
       "      <td>1.268609</td>\n",
       "      <td>-1.158528</td>\n",
       "      <td>-1.485933</td>\n",
       "      <td>...</td>\n",
       "      <td>1</td>\n",
       "      <td>0</td>\n",
       "      <td>0</td>\n",
       "      <td>1</td>\n",
       "      <td>0</td>\n",
       "      <td>0</td>\n",
       "      <td>0</td>\n",
       "      <td>0</td>\n",
       "      <td>0</td>\n",
       "      <td>1</td>\n",
       "    </tr>\n",
       "    <tr>\n",
       "      <th>380</th>\n",
       "      <td>-0.077481</td>\n",
       "      <td>-0.529035</td>\n",
       "      <td>3</td>\n",
       "      <td>3</td>\n",
       "      <td>0</td>\n",
       "      <td>0</td>\n",
       "      <td>-0.820445</td>\n",
       "      <td>0.372217</td>\n",
       "      <td>-1.488988</td>\n",
       "      <td>-1.485933</td>\n",
       "      <td>...</td>\n",
       "      <td>1</td>\n",
       "      <td>0</td>\n",
       "      <td>0</td>\n",
       "      <td>1</td>\n",
       "      <td>0</td>\n",
       "      <td>0</td>\n",
       "      <td>0</td>\n",
       "      <td>0</td>\n",
       "      <td>0</td>\n",
       "      <td>1</td>\n",
       "    </tr>\n",
       "    <tr>\n",
       "      <th>...</th>\n",
       "      <td>...</td>\n",
       "      <td>...</td>\n",
       "      <td>...</td>\n",
       "      <td>...</td>\n",
       "      <td>...</td>\n",
       "      <td>...</td>\n",
       "      <td>...</td>\n",
       "      <td>...</td>\n",
       "      <td>...</td>\n",
       "      <td>...</td>\n",
       "      <td>...</td>\n",
       "      <td>...</td>\n",
       "      <td>...</td>\n",
       "      <td>...</td>\n",
       "      <td>...</td>\n",
       "      <td>...</td>\n",
       "      <td>...</td>\n",
       "      <td>...</td>\n",
       "      <td>...</td>\n",
       "      <td>...</td>\n",
       "      <td>...</td>\n",
       "    </tr>\n",
       "    <tr>\n",
       "      <th>1095</th>\n",
       "      <td>0.614486</td>\n",
       "      <td>-0.127631</td>\n",
       "      <td>0</td>\n",
       "      <td>3</td>\n",
       "      <td>0</td>\n",
       "      <td>0</td>\n",
       "      <td>-0.088934</td>\n",
       "      <td>-0.524174</td>\n",
       "      <td>1.241280</td>\n",
       "      <td>1.127047</td>\n",
       "      <td>...</td>\n",
       "      <td>1</td>\n",
       "      <td>0</td>\n",
       "      <td>0</td>\n",
       "      <td>1</td>\n",
       "      <td>0</td>\n",
       "      <td>0</td>\n",
       "      <td>0</td>\n",
       "      <td>0</td>\n",
       "      <td>0</td>\n",
       "      <td>1</td>\n",
       "    </tr>\n",
       "    <tr>\n",
       "      <th>1130</th>\n",
       "      <td>0.302875</td>\n",
       "      <td>-0.268313</td>\n",
       "      <td>3</td>\n",
       "      <td>3</td>\n",
       "      <td>0</td>\n",
       "      <td>0</td>\n",
       "      <td>-1.551955</td>\n",
       "      <td>-2.316957</td>\n",
       "      <td>-1.392002</td>\n",
       "      <td>-1.485933</td>\n",
       "      <td>...</td>\n",
       "      <td>1</td>\n",
       "      <td>0</td>\n",
       "      <td>0</td>\n",
       "      <td>1</td>\n",
       "      <td>0</td>\n",
       "      <td>0</td>\n",
       "      <td>1</td>\n",
       "      <td>0</td>\n",
       "      <td>0</td>\n",
       "      <td>0</td>\n",
       "    </tr>\n",
       "    <tr>\n",
       "      <th>1294</th>\n",
       "      <td>0.178866</td>\n",
       "      <td>-0.234096</td>\n",
       "      <td>3</td>\n",
       "      <td>3</td>\n",
       "      <td>0</td>\n",
       "      <td>0</td>\n",
       "      <td>-0.820445</td>\n",
       "      <td>1.268609</td>\n",
       "      <td>-0.632065</td>\n",
       "      <td>0.065745</td>\n",
       "      <td>...</td>\n",
       "      <td>1</td>\n",
       "      <td>0</td>\n",
       "      <td>0</td>\n",
       "      <td>1</td>\n",
       "      <td>0</td>\n",
       "      <td>0</td>\n",
       "      <td>0</td>\n",
       "      <td>0</td>\n",
       "      <td>0</td>\n",
       "      <td>1</td>\n",
       "    </tr>\n",
       "    <tr>\n",
       "      <th>860</th>\n",
       "      <td>0.052182</td>\n",
       "      <td>-0.283376</td>\n",
       "      <td>3</td>\n",
       "      <td>3</td>\n",
       "      <td>0</td>\n",
       "      <td>0</td>\n",
       "      <td>0.642577</td>\n",
       "      <td>2.165000</td>\n",
       "      <td>-1.626287</td>\n",
       "      <td>0.554450</td>\n",
       "      <td>...</td>\n",
       "      <td>1</td>\n",
       "      <td>0</td>\n",
       "      <td>0</td>\n",
       "      <td>1</td>\n",
       "      <td>0</td>\n",
       "      <td>0</td>\n",
       "      <td>0</td>\n",
       "      <td>0</td>\n",
       "      <td>0</td>\n",
       "      <td>1</td>\n",
       "    </tr>\n",
       "    <tr>\n",
       "      <th>1126</th>\n",
       "      <td>0.000694</td>\n",
       "      <td>-0.651399</td>\n",
       "      <td>3</td>\n",
       "      <td>3</td>\n",
       "      <td>0</td>\n",
       "      <td>0</td>\n",
       "      <td>0.642577</td>\n",
       "      <td>-0.524174</td>\n",
       "      <td>1.283168</td>\n",
       "      <td>1.205193</td>\n",
       "      <td>...</td>\n",
       "      <td>1</td>\n",
       "      <td>0</td>\n",
       "      <td>0</td>\n",
       "      <td>1</td>\n",
       "      <td>0</td>\n",
       "      <td>0</td>\n",
       "      <td>0</td>\n",
       "      <td>0</td>\n",
       "      <td>0</td>\n",
       "      <td>1</td>\n",
       "    </tr>\n",
       "  </tbody>\n",
       "</table>\n",
       "<p>1168 rows × 191 columns</p>\n",
       "</div>"
      ],
      "text/plain": [
       "      LotFrontage   LotArea  LotShape  LandContour  Utilities  LandSlope  \\\n",
       "254      0.424462 -0.212896         3            3          0          0   \n",
       "1066     0.153752 -0.265245         0            3          0          0   \n",
       "638      0.351788 -0.177841         3            3          0          0   \n",
       "799      0.178866 -0.324474         3            3          0          0   \n",
       "380     -0.077481 -0.529035         3            3          0          0   \n",
       "...           ...       ...       ...          ...        ...        ...   \n",
       "1095     0.614486 -0.127631         0            3          0          0   \n",
       "1130     0.302875 -0.268313         3            3          0          0   \n",
       "1294     0.178866 -0.234096         3            3          0          0   \n",
       "860      0.052182 -0.283376         3            3          0          0   \n",
       "1126     0.000694 -0.651399         3            3          0          0   \n",
       "\n",
       "      OverallQual  OverallCond  YearBuilt  YearRemodAdd  ...  CentralAir_Y  \\\n",
       "254     -0.820445     0.372217  -0.568922     -1.296113  ...             1   \n",
       "1066    -0.088934     1.268609   0.714019      0.300405  ...             1   \n",
       "638     -0.820445     1.268609  -1.793320     -1.485933  ...             1   \n",
       "799     -0.820445     1.268609  -1.158528     -1.485933  ...             1   \n",
       "380     -0.820445     0.372217  -1.488988     -1.485933  ...             1   \n",
       "...           ...          ...        ...           ...  ...           ...   \n",
       "1095    -0.088934    -0.524174   1.241280      1.127047  ...             1   \n",
       "1130    -1.551955    -2.316957  -1.392002     -1.485933  ...             1   \n",
       "1294    -0.820445     1.268609  -0.632065      0.065745  ...             1   \n",
       "860      0.642577     2.165000  -1.626287      0.554450  ...             1   \n",
       "1126     0.642577    -0.524174   1.283168      1.205193  ...             1   \n",
       "\n",
       "      Electrical_FuseF  Electrical_FuseP  Electrical_SBrkr  Functional_Maj2  \\\n",
       "254                  0                 0                 1                0   \n",
       "1066                 0                 0                 1                0   \n",
       "638                  0                 0                 0                0   \n",
       "799                  0                 0                 1                0   \n",
       "380                  0                 0                 1                0   \n",
       "...                ...               ...               ...              ...   \n",
       "1095                 0                 0                 1                0   \n",
       "1130                 0                 0                 1                0   \n",
       "1294                 0                 0                 1                0   \n",
       "860                  0                 0                 1                0   \n",
       "1126                 0                 0                 1                0   \n",
       "\n",
       "      Functional_Min1  Functional_Min2  Functional_Mod  Functional_Sev  \\\n",
       "254                 0                0               0               0   \n",
       "1066                0                0               0               0   \n",
       "638                 0                0               0               0   \n",
       "799                 0                0               0               0   \n",
       "380                 0                0               0               0   \n",
       "...               ...              ...             ...             ...   \n",
       "1095                0                0               0               0   \n",
       "1130                0                1               0               0   \n",
       "1294                0                0               0               0   \n",
       "860                 0                0               0               0   \n",
       "1126                0                0               0               0   \n",
       "\n",
       "      Functional_Typ  \n",
       "254                1  \n",
       "1066               1  \n",
       "638                1  \n",
       "799                1  \n",
       "380                1  \n",
       "...              ...  \n",
       "1095               1  \n",
       "1130               0  \n",
       "1294               1  \n",
       "860                1  \n",
       "1126               1  \n",
       "\n",
       "[1168 rows x 191 columns]"
      ]
     },
     "execution_count": 10,
     "metadata": {},
     "output_type": "execute_result"
    }
   ],
   "source": [
    "X_train"
   ]
  },
  {
   "attachments": {},
   "cell_type": "markdown",
   "metadata": {},
   "source": [
    "## 3.1. Regression Tree"
   ]
  },
  {
   "cell_type": "code",
   "execution_count": 11,
   "metadata": {},
   "outputs": [
    {
     "name": "stdout",
     "output_type": "stream",
     "text": [
      "0.7417627395529192\n",
      "Submission file created!\n"
     ]
    }
   ],
   "source": [
    "model1 = DecisionTreeRegressor()\n",
    "model1.fit(X_train, y_train)\n",
    "\n",
    "print(model1.score(X_test, y_test))\n",
    "\n",
    "predict(model1)"
   ]
  },
  {
   "cell_type": "code",
   "execution_count": 16,
   "metadata": {},
   "outputs": [
    {
     "name": "stderr",
     "output_type": "stream",
     "text": [
      "/home/xaxiu/miniconda3/lib/python3.10/site-packages/sklearn/model_selection/_validation.py:378: FitFailedWarning: \n",
      "60 fits failed out of a total of 240.\n",
      "The score on these train-test partitions for these parameters will be set to nan.\n",
      "If these failures are not expected, you can try to debug them by setting error_score='raise'.\n",
      "\n",
      "Below are more details about the failures:\n",
      "--------------------------------------------------------------------------------\n",
      "60 fits failed with the following error:\n",
      "Traceback (most recent call last):\n",
      "  File \"/home/xaxiu/miniconda3/lib/python3.10/site-packages/sklearn/model_selection/_validation.py\", line 686, in _fit_and_score\n",
      "    estimator.fit(X_train, y_train, **fit_params)\n",
      "  File \"/home/xaxiu/miniconda3/lib/python3.10/site-packages/sklearn/tree/_classes.py\", line 1247, in fit\n",
      "    super().fit(\n",
      "  File \"/home/xaxiu/miniconda3/lib/python3.10/site-packages/sklearn/tree/_classes.py\", line 177, in fit\n",
      "    self._validate_params()\n",
      "  File \"/home/xaxiu/miniconda3/lib/python3.10/site-packages/sklearn/base.py\", line 581, in _validate_params\n",
      "    validate_parameter_constraints(\n",
      "  File \"/home/xaxiu/miniconda3/lib/python3.10/site-packages/sklearn/utils/_param_validation.py\", line 97, in validate_parameter_constraints\n",
      "    raise InvalidParameterError(\n",
      "sklearn.utils._param_validation.InvalidParameterError: The 'max_depth' parameter of DecisionTreeRegressor must be an int in the range [1, inf) or None. Got 'None' instead.\n",
      "\n",
      "  warnings.warn(some_fits_failed_message, FitFailedWarning)\n",
      "/home/xaxiu/miniconda3/lib/python3.10/site-packages/sklearn/model_selection/_search.py:952: UserWarning: One or more of the test scores are non-finite: [           nan            nan            nan 41162.41499839\n",
      " 43556.30194124 41081.29667594 45416.3405663  41949.88869818\n",
      " 46322.5858003  46511.90943234 45742.62487174 45838.52686647\n",
      "            nan            nan            nan 41695.53410445\n",
      " 44254.84586988 39412.89399672 44118.13350923 41909.1779079\n",
      " 41843.31797645 46316.01053163 45863.55651166 41229.76103513]\n",
      "  warnings.warn(\n"
     ]
    },
    {
     "data": {
      "text/plain": [
       "0.6582487677473994"
      ]
     },
     "execution_count": 16,
     "metadata": {},
     "output_type": "execute_result"
    }
   ],
   "source": [
    "param = {\n",
    "    \"max_depth\": [\"None\", 5, 10, 15],\n",
    "    \"min_samples_split\": [2, 5, 10],\n",
    "    \"criterion\": [\"absolute_error\", \"absolute_error\"]\n",
    "}\n",
    "\n",
    "grid_search = GridSearchCV(estimator = model1, param_grid = param, cv = 10, scoring = scorer)\n",
    "\n",
    "grid_search.fit(X_train, y_train)\n",
    "\n",
    "# predict(grid_search.best_estimator_)\n",
    "\n",
    "pd.DataFrame({\n",
    "        \"Id\": test_df[\"Id\"],\n",
    "        \"SalePrice\": model1.predict(test_df[features])\n",
    "    }).to_csv('../data/submission1.csv', index=False)\n",
    "\n",
    "grid_search.best_estimator_.score(X_test, y_test)"
   ]
  },
  {
   "attachments": {},
   "cell_type": "markdown",
   "metadata": {},
   "source": [
    "## 3.2. Random Forest"
   ]
  },
  {
   "cell_type": "code",
   "execution_count": 12,
   "metadata": {},
   "outputs": [
    {
     "name": "stdout",
     "output_type": "stream",
     "text": [
      "Submission file created!\n"
     ]
    },
    {
     "data": {
      "text/plain": [
       "0.8947063299133987"
      ]
     },
     "execution_count": 12,
     "metadata": {},
     "output_type": "execute_result"
    }
   ],
   "source": [
    "model2 = RandomForestRegressor()\n",
    "model2.fit(X_train, y_train)\n",
    "\n",
    "predict(model2)\n",
    "\n",
    "model2.score(X_test, y_test)"
   ]
  },
  {
   "cell_type": "code",
   "execution_count": 17,
   "metadata": {},
   "outputs": [
    {
     "data": {
      "text/plain": [
       "0.8744844053885023"
      ]
     },
     "execution_count": 17,
     "metadata": {},
     "output_type": "execute_result"
    }
   ],
   "source": [
    "param = {\n",
    "    'n_estimators': [10, 50,100, 200, 300]\n",
    "}\n",
    "\n",
    "grid_search = GridSearchCV(estimator = model2, param_grid = param, cv = 10, scoring = scorer)\n",
    "\n",
    "grid_search.fit(X_train, y_train)\n",
    "\n",
    "pd.DataFrame({\n",
    "        \"Id\": test_df[\"Id\"],\n",
    "        \"SalePrice\": model2.predict(test_df[features])\n",
    "    }).to_csv('../data/submission2.csv', index=False)\n",
    "\n",
    "grid_search.best_estimator_.score(X_test, y_test)"
   ]
  },
  {
   "attachments": {},
   "cell_type": "markdown",
   "metadata": {},
   "source": [
    "## 3.3.Gradient Boosting"
   ]
  },
  {
   "cell_type": "code",
   "execution_count": 15,
   "metadata": {},
   "outputs": [
    {
     "name": "stdout",
     "output_type": "stream",
     "text": [
      "Submission file created!\n",
      "0.894805831142898\n"
     ]
    }
   ],
   "source": [
    "model3 = GradientBoostingRegressor()\n",
    "model3.fit(X_train, y_train)\n",
    "\n",
    "predict(model3)\n",
    "\n",
    "print(model3.score(X_test, y_test))"
   ]
  },
  {
   "cell_type": "code",
   "execution_count": 18,
   "metadata": {},
   "outputs": [
    {
     "data": {
      "text/plain": [
       "0.8903704156629797"
      ]
     },
     "execution_count": 18,
     "metadata": {},
     "output_type": "execute_result"
    }
   ],
   "source": [
    "param = {\n",
    "    'n_estimators': [50, 100, 150]\n",
    "}\n",
    "\n",
    "grid_search = GridSearchCV(estimator = model3, param_grid = param, cv = 10, scoring = scorer)\n",
    "\n",
    "grid_search.fit(X_train, y_train)\n",
    "\n",
    "pd.DataFrame({\n",
    "        \"Id\": test_df[\"Id\"],\n",
    "        \"SalePrice\": model3.predict(test_df[features])\n",
    "    }).to_csv('../data/submission3.csv', index=False)\n",
    "\n",
    "grid_search.best_estimator_.score(X_test, y_test)"
   ]
  },
  {
   "attachments": {},
   "cell_type": "markdown",
   "metadata": {},
   "source": [
    "## 3.4. Linear Regression"
   ]
  },
  {
   "cell_type": "code",
   "execution_count": 14,
   "metadata": {},
   "outputs": [
    {
     "name": "stdout",
     "output_type": "stream",
     "text": [
      "Submission file created!\n"
     ]
    },
    {
     "data": {
      "text/plain": [
       "-1.2077803967171474e+24"
      ]
     },
     "execution_count": 14,
     "metadata": {},
     "output_type": "execute_result"
    }
   ],
   "source": [
    "model4 = LinearRegression()\n",
    "model4.fit(X_train, y_train)\n",
    "\n",
    "predict(model4)\n",
    "\n",
    "model4.score(X_test, y_test)"
   ]
  }
 ],
 "metadata": {
  "kernelspec": {
   "display_name": "base",
   "language": "python",
   "name": "python3"
  },
  "language_info": {
   "codemirror_mode": {
    "name": "ipython",
    "version": 3
   },
   "file_extension": ".py",
   "mimetype": "text/x-python",
   "name": "python",
   "nbconvert_exporter": "python",
   "pygments_lexer": "ipython3",
   "version": "3.10.9"
  },
  "orig_nbformat": 4
 },
 "nbformat": 4,
 "nbformat_minor": 2
}
