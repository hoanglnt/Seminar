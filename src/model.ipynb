{
 "cells": [
  {
   "attachments": {},
   "cell_type": "markdown",
   "metadata": {},
   "source": [
    "# 0. Import Library"
   ]
  },
  {
   "cell_type": "code",
   "execution_count": 38,
   "metadata": {},
   "outputs": [],
   "source": [
    "import pandas as pd\n",
    "import numpy as np\n",
    "import matplotlib.pyplot as plt\n",
    "import seaborn as sns\n",
    "\n",
    "from sklearn.model_selection import train_test_split\n",
    "from sklearn.preprocessing import StandardScaler\n",
    "from sklearn.tree import DecisionTreeRegressor\n",
    "from sklearn.model_selection import GridSearchCV\n",
    "from sklearn.ensemble import RandomForestRegressor\n",
    "from sklearn.ensemble import GradientBoostingRegressor\n",
    "from sklearn.ensemble import VotingRegressor\n",
    "from sklearn.metrics import make_scorer, mean_squared_error"
   ]
  },
  {
   "cell_type": "code",
   "execution_count": 27,
   "metadata": {},
   "outputs": [],
   "source": [
    "df = pd.read_csv('../data/preprocessed.csv')"
   ]
  },
  {
   "attachments": {},
   "cell_type": "markdown",
   "metadata": {},
   "source": [
    "# 3.Data Modeling"
   ]
  },
  {
   "cell_type": "code",
   "execution_count": 28,
   "metadata": {},
   "outputs": [],
   "source": [
    "nominal_col = [\n",
    "    \"MSSubClass\",\"MSZoning\", \"LotConfig\", \"Neighborhood\", \"HouseStyle\", \"RoofStyle\",\n",
    "    \"Exterior1st\", \"Exterior2nd\", \"MasVnrType\", \"Foundation\", \"GarageType\",\n",
    "    \"SaleType\", \"SaleCondition\", \"Street\", \"Condition1\", \"Condition2\", \n",
    "    \"BldgType\", \"RoofMatl\", \"Heating\", \"CentralAir\", \"Electrical\", \n",
    "    \"Functional\"\n",
    "]\n",
    "\n",
    "ordinal_col = [\n",
    "    \"LotShape\", \"ExterQual\", \"ExterCond\", \"BsmtQual\", \"BsmtExposure\",\n",
    "    \"BsmtFinType1\", \"HeatingQC\", \"KitchenQual\", \"FireplaceQu\", \"GarageFinish\",\n",
    "    \"KitchenAbvGr\", \"LandContour\", \"Utilities\", \"LandSlope\", \"BsmtCond\",\n",
    "    \"BsmtFinType2\", \"GarageQual\", \"GarageCond\", \"PavedDrive\"\n",
    "]\n",
    "\n",
    "categorical_col = nominal_col + ordinal_col\n",
    "\n",
    "numerical_col = list(df.columns[(~df.columns.isin(categorical_col))])[:-1]"
   ]
  },
  {
   "cell_type": "code",
   "execution_count": 29,
   "metadata": {},
   "outputs": [],
   "source": [
    "test_df = pd.read_csv('../data/test_clean.csv')\n",
    "\n",
    "test_df[ordinal_col] = test_df[ordinal_col].astype(\"category\").apply(lambda x: x.cat.codes)\n",
    "test_df = pd.get_dummies(test_df, columns=nominal_col, drop_first=True)\n",
    "\n",
    "test_df[numerical_col] = StandardScaler().fit_transform(test_df[numerical_col])"
   ]
  },
  {
   "cell_type": "code",
   "execution_count": 30,
   "metadata": {},
   "outputs": [],
   "source": [
    "df[ordinal_col] = df[ordinal_col].astype(\"category\").apply(lambda x: x.cat.codes)\n",
    "df = pd.get_dummies(df, columns=nominal_col, drop_first=True)"
   ]
  },
  {
   "cell_type": "code",
   "execution_count": 31,
   "metadata": {},
   "outputs": [],
   "source": [
    "features = list(df.columns)\n",
    "\n",
    "features.remove('SalePrice')\n",
    "features.remove(\"Exterior1st_ImStucc\")\n",
    "features.remove(\"Exterior1st_Stone\")\n",
    "features.remove(\"Exterior2nd_Other\")\n",
    "features.remove('Exterior1st_CBlock')\n",
    "features.remove('Exterior2nd_AsphShn')\n",
    "features.remove('Exterior2nd_CBlock')\n",
    "features.remove('Exterior2nd_Stone')\n",
    "features.remove(\"HouseStyle_2.5Fin\")\n",
    "for col in ['Condition2_RRAe', 'Condition2_RRAn', 'Condition2_RRNn', 'RoofMatl_CompShg', 'RoofMatl_Membran', 'RoofMatl_Metal', 'RoofMatl_Roll', 'Heating_GasA', 'Heating_OthW', 'Electrical_Mix']:\n",
    "    if col in features:\n",
    "        features.remove(col)\n",
    "\n",
    "target = 'SalePrice'\n",
    "\n",
    "X_train, X_test, y_train, y_test = train_test_split(df[features], df[target], test_size=0.2, random_state=42)\n",
    "\n",
    "X_train[numerical_col] = StandardScaler().fit_transform(X_train[numerical_col])\n",
    "X_test[numerical_col] = StandardScaler().fit_transform(X_test[numerical_col])"
   ]
  },
  {
   "cell_type": "code",
   "execution_count": 32,
   "metadata": {},
   "outputs": [],
   "source": [
    "def predict(model):\n",
    "    pd.DataFrame({\n",
    "        \"Id\": test_df[\"Id\"],\n",
    "        \"SalePrice\": model.predict(test_df[features])\n",
    "    }).to_csv('../data/submission.csv', index=False)\n",
    "\n",
    "    print(\"Submission file created!\")"
   ]
  },
  {
   "cell_type": "code",
   "execution_count": 41,
   "metadata": {},
   "outputs": [],
   "source": [
    "scorer = make_scorer(mean_squared_error, squared=False)"
   ]
  },
  {
   "attachments": {},
   "cell_type": "markdown",
   "metadata": {},
   "source": [
    "## 3.1. Regression Tree"
   ]
  },
  {
   "cell_type": "code",
   "execution_count": 35,
   "metadata": {},
   "outputs": [
    {
     "name": "stdout",
     "output_type": "stream",
     "text": [
      "0.8044792243683874\n",
      "Submission file created!\n"
     ]
    }
   ],
   "source": [
    "model1 = DecisionTreeRegressor()\n",
    "model1.fit(X_train, y_train)\n",
    "\n",
    "print(model1.score(X_test, y_test))\n",
    "\n",
    "predict(model1)"
   ]
  },
  {
   "cell_type": "code",
   "execution_count": null,
   "metadata": {},
   "outputs": [],
   "source": [
    "param = {\n",
    "    \"max_depth\": [\"None\", 5, 10, 15],\n",
    "    \"min_samples_split\": [2, 5, 10],\n",
    "    \"criterion\": [\"absolute_error\", \"absolute_error\"]\n",
    "}\n",
    "\n",
    "grid_search = GridSearchCV(estimator = model1, param_grid = param, cv = 10, scoring = scorer)\n",
    "\n",
    "grid_search.fit(X_train, y_train)\n",
    "\n",
    "# predict(grid_search.best_estimator_)\n",
    "\n",
    "pd.DataFrame({\n",
    "        \"Id\": test_df[\"Id\"],\n",
    "        \"SalePrice\": model1.predict(test_df[features])\n",
    "    }).to_csv('../data/submission1.csv', index=False)\n",
    "\n",
    "grid_search.best_estimator_.score(X_test, y_test)"
   ]
  },
  {
   "attachments": {},
   "cell_type": "markdown",
   "metadata": {},
   "source": [
    "## 3.2. Random Forest"
   ]
  },
  {
   "cell_type": "code",
   "execution_count": 94,
   "metadata": {},
   "outputs": [
    {
     "name": "stdout",
     "output_type": "stream",
     "text": [
      "0.9039935996477334 2\n"
     ]
    }
   ],
   "source": [
    "model2s = [RandomForestRegressor(n_estimators = i, random_state = 25) for i in range(50, 150, 20)]\n",
    "\n",
    "best_model = None\n",
    "best_score = 0\n",
    "\n",
    "for (i, model) in enumerate(model2s):\n",
    "    model.fit(X_train, y_train)\n",
    "\n",
    "    if best_score < model.score(X_test, y_test):\n",
    "        best_score = model.score(X_test, y_test)\n",
    "        best_model = i\n",
    "\n",
    "print(best_score, best_model)"
   ]
  },
  {
   "cell_type": "code",
   "execution_count": null,
   "metadata": {},
   "outputs": [
    {
     "data": {
      "text/plain": [
       "0.8744844053885023"
      ]
     },
     "execution_count": 17,
     "metadata": {},
     "output_type": "execute_result"
    }
   ],
   "source": [
    "param = {\n",
    "    'n_estimators': [100, 200, 300]\n",
    "}\n",
    "\n",
    "grid_search = GridSearchCV(estimator = model2, param_grid = param, cv = 10, scoring = scorer)\n",
    "\n",
    "grid_search.fit(X_train, y_train)\n",
    "\n",
    "pd.DataFrame({\n",
    "        \"Id\": test_df[\"Id\"],\n",
    "        \"SalePrice\": model2.predict(test_df[features])\n",
    "    }).to_csv('../data/submission2.csv', index=False)\n",
    "\n",
    "grid_search.best_estimator_.score(X_test, y_test)"
   ]
  },
  {
   "attachments": {},
   "cell_type": "markdown",
   "metadata": {},
   "source": [
    "## 3.3.Gradient Boosting"
   ]
  },
  {
   "cell_type": "code",
   "execution_count": 84,
   "metadata": {},
   "outputs": [
    {
     "name": "stdout",
     "output_type": "stream",
     "text": [
      "0.9071397366945458\n",
      "0.9072095797939624\n",
      "0.9069416711683994\n",
      "0.9067537972785258\n",
      "0.9068663893520195\n"
     ]
    }
   ],
   "source": [
    "model3s = [GradientBoostingRegressor(n_estimators = i, random_state = 1) for i in range(300, 400, 20)]\n",
    "\n",
    "for model in model3s:\n",
    "    model.fit(X_train, y_train)\n",
    "    \n",
    "    print(model.score(X_test, y_test))"
   ]
  },
  {
   "cell_type": "code",
   "execution_count": 86,
   "metadata": {},
   "outputs": [
    {
     "name": "stdout",
     "output_type": "stream",
     "text": [
      "Submission file created!\n"
     ]
    }
   ],
   "source": [
    "model3s[1].score(X_test, y_test)\n",
    "\n",
    "predict(model3s[1])"
   ]
  },
  {
   "cell_type": "code",
   "execution_count": 74,
   "metadata": {},
   "outputs": [
    {
     "name": "stdout",
     "output_type": "stream",
     "text": [
      "0.9063225643640488\n"
     ]
    }
   ],
   "source": [
    "model3 = GradientBoostingRegressor(n_estimators = 500, random_state = 1)\n",
    "model3.fit(X_train, y_train)\n",
    "\n",
    "pd.DataFrame({\n",
    "        \"Id\": test_df[\"Id\"],\n",
    "        \"SalePrice\": model3.predict(test_df[features])\n",
    "    }).to_csv('../data/submission3.csv', index=False)\n",
    "\n",
    "print(model3.score(X_test, y_test))"
   ]
  },
  {
   "cell_type": "code",
   "execution_count": null,
   "metadata": {},
   "outputs": [],
   "source": [
    "param = {\n",
    "    'n_estimators': [50, 100, 150]\n",
    "}\n",
    "\n",
    "grid_search = GridSearchCV(estimator = model3, param_grid = param, cv = 10, scoring = scorer)\n",
    "\n",
    "grid_search.fit(X_train, y_train)\n",
    "\n",
    "pd.DataFrame({\n",
    "        \"Id\": test_df[\"Id\"],\n",
    "        \"SalePrice\": model3.predict(test_df[features])\n",
    "    }).to_csv('../data/submission3.csv', index=False)\n",
    "\n",
    "grid_search.best_estimator_.score(X_test, y_test)"
   ]
  },
  {
   "attachments": {},
   "cell_type": "markdown",
   "metadata": {},
   "source": [
    "## 3.4. Voting Regressor"
   ]
  },
  {
   "cell_type": "code",
   "execution_count": 88,
   "metadata": {},
   "outputs": [
    {
     "data": {
      "text/plain": [
       "0.9089927999108867"
      ]
     },
     "execution_count": 88,
     "metadata": {},
     "output_type": "execute_result"
    }
   ],
   "source": [
    "model4 = VotingRegressor([('rf', model2), ('gb', model3s[1])])\n",
    "\n",
    "model4.fit(X_train, y_train)\n",
    "\n",
    "pd.DataFrame({\n",
    "        \"Id\": test_df[\"Id\"],\n",
    "        \"SalePrice\": model4.predict(test_df[features])\n",
    "    }).to_csv('../data/submission4.csv', index=False)\n",
    "\n",
    "model4.score(X_test, y_test)"
   ]
  },
  {
   "cell_type": "code",
   "execution_count": null,
   "metadata": {},
   "outputs": [],
   "source": []
  }
 ],
 "metadata": {
  "kernelspec": {
   "display_name": "base",
   "language": "python",
   "name": "python3"
  },
  "language_info": {
   "codemirror_mode": {
    "name": "ipython",
    "version": 3
   },
   "file_extension": ".py",
   "mimetype": "text/x-python",
   "name": "python",
   "nbconvert_exporter": "python",
   "pygments_lexer": "ipython3",
   "version": "3.10.9"
  },
  "orig_nbformat": 4
 },
 "nbformat": 4,
 "nbformat_minor": 2
}
