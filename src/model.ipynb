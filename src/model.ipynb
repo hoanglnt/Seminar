{
 "cells": [
  {
   "attachments": {},
   "cell_type": "markdown",
   "metadata": {},
   "source": [
    "# 0. Import Library"
   ]
  },
  {
   "cell_type": "code",
   "execution_count": 6,
   "metadata": {},
   "outputs": [],
   "source": [
    "import pandas as pd\n",
    "import numpy as np\n",
    "import matplotlib.pyplot as plt\n",
    "import seaborn as sns\n",
    "\n",
    "from sklearn.model_selection import train_test_split\n",
    "from sklearn.preprocessing import StandardScaler\n",
    "from sklearn.tree import DecisionTreeRegressor\n",
    "from sklearn.model_selection import GridSearchCV\n",
    "from sklearn.ensemble import RandomForestRegressor\n",
    "from sklearn.ensemble import GradientBoostingRegressor\n",
    "from sklearn.ensemble import VotingRegressor\n",
    "from sklearn.metrics import make_scorer, mean_squared_error"
   ]
  },
  {
   "cell_type": "code",
   "execution_count": 7,
   "metadata": {},
   "outputs": [],
   "source": [
    "train_df = pd.read_csv('../data/train_clean.csv')\n",
    "test_df = pd.read_csv('../data/test_clean.csv')"
   ]
  },
  {
   "attachments": {},
   "cell_type": "markdown",
   "metadata": {},
   "source": [
    "# 3.Data Modeling"
   ]
  },
  {
   "cell_type": "code",
   "execution_count": 11,
   "metadata": {},
   "outputs": [],
   "source": [
    "nominal_col = [\n",
    "    'MSSubClass', 'MSZoning', 'Street', 'Alley', 'Utilities', \n",
    "    'Neighborhood', 'Condition1', 'Condition2', 'BldgType',\n",
    "    'HouseStyle', 'RoofStyle', 'RoofMatl', 'Exterior1st',\n",
    "    'Exterior2nd', 'MasVnrType', 'Foundation', 'Heating',\n",
    "    'CentralAir', 'Electrical', 'Functional', 'GarageType',\n",
    "    'MiscFeature', 'SaleType', 'SaleCondition', 'MoSold', 'YrSold',\n",
    "]\n",
    "\n",
    "ordinal_col = [\n",
    "    'LotShape', 'LandContour', 'LotConfig', 'LandSlope', 'ExterQual',\n",
    "    'ExterCond', 'BsmtQual', 'BsmtCond', 'BsmtExposure', 'BsmtFinType1',\n",
    "    'BsmtFinType2', 'HeatingQC', 'KitchenQual', 'FireplaceQu', 'GarageFinish',\n",
    "    'GarageQual', 'GarageCond', 'PavedDrive', 'PoolQC', 'Fence', \n",
    "]\n",
    "\n",
    "categorical_col = nominal_col + ordinal_col\n",
    "\n",
    "numerical_col = list(train_df.columns[(~train_df.columns.isin(categorical_col))])[:-1]"
   ]
  },
  {
   "cell_type": "code",
   "execution_count": 13,
   "metadata": {},
   "outputs": [],
   "source": [
    "train_df[ordinal_col] = train_df[ordinal_col].astype(\"category\").apply(lambda x: x.cat.codes)\n",
    "train_df = pd.get_dummies(train_df, columns=nominal_col, drop_first=True)\n",
    "\n",
    "test_df[ordinal_col] = test_df[ordinal_col].astype(\"category\").apply(lambda x: x.cat.codes)\n",
    "test_df = pd.get_dummies(test_df, columns=nominal_col, drop_first=True)\n",
    "\n",
    "test_df[numerical_col] = StandardScaler().fit_transform(test_df[numerical_col])"
   ]
  },
  {
   "cell_type": "code",
   "execution_count": 14,
   "metadata": {},
   "outputs": [],
   "source": [
    "features = list(train_df.columns)\n",
    "\n",
    "diff_col = list(set(train_df.columns) - set(test_df.columns))\n",
    "\n",
    "for col in diff_col:\n",
    "    if col in features:\n",
    "        features.remove(col)\n",
    "\n",
    "target = 'SalePrice'\n",
    "\n",
    "X_train, X_test, y_train, y_test = train_test_split(train_df[features], train_df[target], test_size=0.2, random_state=42)\n",
    "\n",
    "X_train[numerical_col] = StandardScaler().fit_transform(X_train[numerical_col])\n",
    "X_test[numerical_col] = StandardScaler().fit_transform(X_test[numerical_col])"
   ]
  },
  {
   "cell_type": "code",
   "execution_count": 15,
   "metadata": {},
   "outputs": [],
   "source": [
    "def predict(model):\n",
    "    pd.DataFrame({\n",
    "        \"Id\": test_df[\"Id\"],\n",
    "        \"SalePrice\": model.predict(test_df[features])\n",
    "    }).to_csv('../data/submission.csv', index=False)\n",
    "\n",
    "    print(\"Submission file created!\")"
   ]
  },
  {
   "cell_type": "code",
   "execution_count": 16,
   "metadata": {},
   "outputs": [],
   "source": [
    "scorer = make_scorer(mean_squared_error, squared=False)"
   ]
  },
  {
   "attachments": {},
   "cell_type": "markdown",
   "metadata": {},
   "source": [
    "## 3.1. Regression Tree"
   ]
  },
  {
   "cell_type": "code",
   "execution_count": 17,
   "metadata": {},
   "outputs": [
    {
     "name": "stdout",
     "output_type": "stream",
     "text": [
      "0.8362794797336331\n",
      "Submission file created!\n"
     ]
    }
   ],
   "source": [
    "model1 = DecisionTreeRegressor()\n",
    "model1.fit(X_train, y_train)\n",
    "\n",
    "print(model1.score(X_test, y_test))\n",
    "\n",
    "predict(model1)"
   ]
  },
  {
   "attachments": {},
   "cell_type": "markdown",
   "metadata": {},
   "source": [
    "## 3.2. Random Forest"
   ]
  },
  {
   "cell_type": "code",
   "execution_count": 18,
   "metadata": {},
   "outputs": [
    {
     "name": "stdout",
     "output_type": "stream",
     "text": [
      "0.8921923253641667\n",
      "Submission file created!\n"
     ]
    }
   ],
   "source": [
    "model2 = RandomForestRegressor()\n",
    "model2.fit(X_train, y_train)\n",
    "\n",
    "print(model2.score(X_test, y_test))\n",
    "\n",
    "predict(model2)"
   ]
  },
  {
   "attachments": {},
   "cell_type": "markdown",
   "metadata": {},
   "source": [
    "## 3.3.Gradient Boosting"
   ]
  },
  {
   "cell_type": "code",
   "execution_count": 19,
   "metadata": {},
   "outputs": [
    {
     "name": "stdout",
     "output_type": "stream",
     "text": [
      "0.8938009987941419\n",
      "Submission file created!\n"
     ]
    }
   ],
   "source": [
    "model3 = GradientBoostingRegressor()\n",
    "model3.fit(X_train, y_train)\n",
    "\n",
    "print(model3.score(X_test, y_test))\n",
    "\n",
    "predict(model3)"
   ]
  },
  {
   "attachments": {},
   "cell_type": "markdown",
   "metadata": {},
   "source": [
    "## 3.4. Voting Regressor"
   ]
  },
  {
   "cell_type": "code",
   "execution_count": 20,
   "metadata": {},
   "outputs": [
    {
     "data": {
      "text/plain": [
       "0.903821828995462"
      ]
     },
     "execution_count": 20,
     "metadata": {},
     "output_type": "execute_result"
    }
   ],
   "source": [
    "model4 = VotingRegressor([('rf', model2), ('gb', model3)])\n",
    "\n",
    "model4.fit(X_train, y_train)\n",
    "\n",
    "model4.score(X_test, y_test)"
   ]
  }
 ],
 "metadata": {
  "kernelspec": {
   "display_name": "base",
   "language": "python",
   "name": "python3"
  },
  "language_info": {
   "codemirror_mode": {
    "name": "ipython",
    "version": 3
   },
   "file_extension": ".py",
   "mimetype": "text/x-python",
   "name": "python",
   "nbconvert_exporter": "python",
   "pygments_lexer": "ipython3",
   "version": "3.10.9"
  },
  "orig_nbformat": 4
 },
 "nbformat": 4,
 "nbformat_minor": 2
}
